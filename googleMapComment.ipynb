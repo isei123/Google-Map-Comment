{
 "cells": [
  {
   "cell_type": "markdown",
   "metadata": {},
   "source": [
    "# **Pre-processing**"
   ]
  },
  {
   "cell_type": "code",
   "execution_count": null,
   "metadata": {
    "id": "MiWgurSHgZmW"
   },
   "outputs": [],
   "source": [
    "import requests \n",
    "import json\n",
    "import time\n",
    "import random\n",
    "import pandas as pd\n",
    "from fake_useragent import UserAgent\n",
    "from google.colab import drive"
   ]
  },
  {
   "cell_type": "markdown",
   "metadata": {},
   "source": [
    "# **Using API to collect the data**"
   ]
  },
  {
   "cell_type": "code",
   "execution_count": null,
   "metadata": {},
   "outputs": [],
   "source": [
    "url = input('url:')\n",
    "page = int(input('number of scraping page:'))\n",
    "z = input('name:')\n",
    "time_start = time.time()  \n",
    "ua = UserAgent()\n",
    "user_agent = ua.random\n",
    "headers = {'User-Agent': user_agent}\n",
    "drive.mount('/content/drive')\n",
    "path = f'/your_path/{z}.csv'\n",
    "\n",
    "\n",
    "data = []\n",
    "if __name__ == '__main__':\n",
    "  with open(path, 'w', encoding = 'utf-8-sig') as f:\n",
    "    for i in range(page):\n",
    "        try:\n",
    "            p=i*10\n",
    "            modPage = f'!1i{p}!2i10'\n",
    "            pre_url = url.replace('!1i0!2i10',modPage)\n",
    "            # print(pre_url)\n",
    "            print(f\"{i} pages has been scraped...\")\n",
    "        \n",
    "            text = requests.get(pre_url, headers=headers).text\n",
    "            pretext = ')]}\\''\n",
    "            text = text.replace(pretext,'')\n",
    "        \n",
    "            soup = json.loads(text)\n",
    "        \n",
    "            consist = soup[2]\n",
    "            \n",
    "            for j in consist:\n",
    "                m = str(j[3]).replace('\\n', '')\n",
    "                # name: str(j[0][1])\n",
    "                # time: str(j[1])\n",
    "                # star nums: str(j[4])\n",
    "                # content: str(j[3]) \n",
    "                info = [str(j[4]),m]\n",
    "                data.append(info)\n",
    "                sleep_time=random.uniform(0,1)\n",
    "                time.sleep(sleep_time)\n",
    "        except:\n",
    "            print(\"error...\")\n",
    "            break\n",
    "        \n",
    "    col = ['rank','message']\n",
    "    df = pd.DataFrame(data,columns=col)\n",
    "\n",
    "    df.to_csv(f)\n",
    "    time_end = time.time() \n",
    "    time_c= time_end - time_start \n",
    "    print('time:',time_c,'s')"
   ]
  },
  {
   "cell_type": "markdown",
   "metadata": {},
   "source": [
    "# **Using API to collect the group data**"
   ]
  },
  {
   "cell_type": "code",
   "execution_count": null,
   "metadata": {
    "id": "_FcmSViqMyxc"
   },
   "outputs": [],
   "source": [
    "collect = ['url1','url2','url3','url4']\n",
    "collect_page = [1,1,1,1]\n",
    "name = ['name1','name2','name3','name4']\n",
    "\n",
    "\n",
    "for i in range(len(collect)):\n",
    "  time_start = time.time() \n",
    "  ua = UserAgent()\n",
    "  user_agent = ua.random\n",
    "  headers = {'User-Agent': user_agent}\n",
    "  drive.mount('/content/drive')\n",
    "  \n",
    "  url = collect[i]\n",
    "  page = collect_page[i]\n",
    "  z = name[i]\n",
    "  path = f'/content/drive/MyDrive/NLP/{z}.csv'\n",
    "  data = []\n",
    "\n",
    "  with open(path, 'w', encoding = 'utf-8-sig') as f:\n",
    "    for i in range(page):\n",
    "        try:\n",
    "            p=i*10\n",
    "            modPage = f'!1i{p}!2i10'\n",
    "            pre_url = url.replace('!1i0!2i10',modPage)\n",
    "            # print(pre_url)\n",
    "            print(f\"{i} pages has been scraped...\")\n",
    "        \n",
    "            text = requests.get(pre_url, headers=headers).text\n",
    "            pretext = ')]}\\''\n",
    "            text = text.replace(pretext,'')\n",
    "        \n",
    "            soup = json.loads(text)\n",
    "        \n",
    "            consist = soup[2]\n",
    "            \n",
    "            for j in consist:\n",
    "                m = str(j[3]).replace('\\n', '')\n",
    "                # name: str(j[0][1])\n",
    "                # time: str(j[1])\n",
    "                # star nums: str(j[4])\n",
    "                # content: str(j[3])\n",
    "                info = [str(j[4]),m]\n",
    "                data.append(info)\n",
    "                sleep_time=random.uniform(0,1)\n",
    "                time.sleep(sleep_time)\n",
    "        except:\n",
    "            print(\"error...\")\n",
    "            break\n",
    "        \n",
    "    col = ['rank','message']\n",
    "    df = pd.DataFrame(data,columns=col)\n",
    "\n",
    "    df.to_csv(f)\n",
    "    time_end = time.time() \n",
    "    time_c= time_end - time_start \n",
    "    print('time:',time_c,'s')"
   ]
  }
 ],
 "metadata": {
  "colab": {
   "provenance": []
  },
  "kernelspec": {
   "display_name": "Python 3",
   "language": "python",
   "name": "python3"
  },
  "language_info": {
   "codemirror_mode": {
    "name": "ipython",
    "version": 3
   },
   "file_extension": ".py",
   "mimetype": "text/x-python",
   "name": "python",
   "nbconvert_exporter": "python",
   "pygments_lexer": "ipython3",
   "version": "3.7.6"
  },
  "varInspector": {
   "cols": {
    "lenName": 16,
    "lenType": 16,
    "lenVar": 40
   },
   "kernels_config": {
    "python": {
     "delete_cmd_postfix": "",
     "delete_cmd_prefix": "del ",
     "library": "var_list.py",
     "varRefreshCmd": "print(var_dic_list())"
    },
    "r": {
     "delete_cmd_postfix": ") ",
     "delete_cmd_prefix": "rm(",
     "library": "var_list.r",
     "varRefreshCmd": "cat(var_dic_list()) "
    }
   },
   "types_to_exclude": [
    "module",
    "function",
    "builtin_function_or_method",
    "instance",
    "_Feature"
   ],
   "window_display": false
  }
 },
 "nbformat": 4,
 "nbformat_minor": 1
}
